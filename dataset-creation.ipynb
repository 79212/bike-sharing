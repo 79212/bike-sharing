{
 "cells": [
  {
   "cell_type": "markdown",
   "metadata": {},
   "source": [
    "# Creating dataset to analyze bike sharing demand in Washington D.C."
   ]
  },
  {
   "cell_type": "code",
   "execution_count": 1,
   "metadata": {},
   "outputs": [],
   "source": [
    "import pandas as pd\n",
    "import glob\n",
    "from datetime import datetime\n",
    "from sklearn.cluster import KMeans\n",
    "from sklearn.metrics import silhouette_score\n",
    "\n",
    "import seaborn as sb\n",
    "import matplotlib.pyplot as plt\n"
   ]
  },
  {
   "cell_type": "code",
   "execution_count": 2,
   "metadata": {},
   "outputs": [],
   "source": [
    "# display all rows and columns in the dataframes\n",
    "pd.set_option('display.max_columns', 500)\n",
    "pd.set_option('display.max_rows', 500)\n"
   ]
  },
  {
   "cell_type": "markdown",
   "metadata": {},
   "source": [
    "## Bike sharing stations and locations dataset"
   ]
  },
  {
   "cell_type": "code",
   "execution_count": 3,
   "metadata": {},
   "outputs": [
    {
     "data": {
      "text/html": [
       "<div>\n",
       "<style scoped>\n",
       "    .dataframe tbody tr th:only-of-type {\n",
       "        vertical-align: middle;\n",
       "    }\n",
       "\n",
       "    .dataframe tbody tr th {\n",
       "        vertical-align: top;\n",
       "    }\n",
       "\n",
       "    .dataframe thead th {\n",
       "        text-align: right;\n",
       "    }\n",
       "</style>\n",
       "<table border=\"1\" class=\"dataframe\">\n",
       "  <thead>\n",
       "    <tr style=\"text-align: right;\">\n",
       "      <th></th>\n",
       "      <th>OBJECTID</th>\n",
       "      <th>ID</th>\n",
       "      <th>ADDRESS</th>\n",
       "      <th>TERMINAL_NUMBER</th>\n",
       "      <th>LATITUDE</th>\n",
       "      <th>LONGITUDE</th>\n",
       "      <th>INSTALLED</th>\n",
       "      <th>LOCKED</th>\n",
       "      <th>INSTALL_DATE</th>\n",
       "      <th>REMOVAL_DATE</th>\n",
       "      <th>TEMPORARY_INSTALL</th>\n",
       "      <th>NUMBER_OF_BIKES</th>\n",
       "      <th>NUMBER_OF_EMPTY_DOCKS</th>\n",
       "      <th>X</th>\n",
       "      <th>Y</th>\n",
       "      <th>SE_ANNO_CAD_DATA</th>\n",
       "      <th>OWNER</th>\n",
       "    </tr>\n",
       "  </thead>\n",
       "  <tbody>\n",
       "    <tr>\n",
       "      <th>0</th>\n",
       "      <td>292811730</td>\n",
       "      <td>479</td>\n",
       "      <td>Columbus Ave &amp; Gramercy Blvd</td>\n",
       "      <td>32069</td>\n",
       "      <td>39.123330</td>\n",
       "      <td>-77.164860</td>\n",
       "      <td>YES</td>\n",
       "      <td>NO</td>\n",
       "      <td>NaN</td>\n",
       "      <td>NaN</td>\n",
       "      <td>NO</td>\n",
       "      <td>8</td>\n",
       "      <td>3</td>\n",
       "      <td>385744.186615</td>\n",
       "      <td>161710.152819</td>\n",
       "      <td>NaN</td>\n",
       "      <td>NaN</td>\n",
       "    </tr>\n",
       "    <tr>\n",
       "      <th>1</th>\n",
       "      <td>292811731</td>\n",
       "      <td>480</td>\n",
       "      <td>Reston Pkwy &amp; Spectrum Dr</td>\n",
       "      <td>32225</td>\n",
       "      <td>38.964208</td>\n",
       "      <td>-77.354280</td>\n",
       "      <td>YES</td>\n",
       "      <td>NO</td>\n",
       "      <td>NaN</td>\n",
       "      <td>NaN</td>\n",
       "      <td>NO</td>\n",
       "      <td>5</td>\n",
       "      <td>10</td>\n",
       "      <td>369296.122237</td>\n",
       "      <td>144092.525801</td>\n",
       "      <td>NaN</td>\n",
       "      <td>NaN</td>\n",
       "    </tr>\n",
       "    <tr>\n",
       "      <th>2</th>\n",
       "      <td>292811732</td>\n",
       "      <td>481</td>\n",
       "      <td>Key West Ave &amp; Great Seneca Hwy</td>\n",
       "      <td>32070</td>\n",
       "      <td>39.105642</td>\n",
       "      <td>-77.203860</td>\n",
       "      <td>YES</td>\n",
       "      <td>NO</td>\n",
       "      <td>NaN</td>\n",
       "      <td>NaN</td>\n",
       "      <td>NO</td>\n",
       "      <td>3</td>\n",
       "      <td>7</td>\n",
       "      <td>382367.389360</td>\n",
       "      <td>159753.369415</td>\n",
       "      <td>NaN</td>\n",
       "      <td>NaN</td>\n",
       "    </tr>\n",
       "    <tr>\n",
       "      <th>3</th>\n",
       "      <td>292811733</td>\n",
       "      <td>482</td>\n",
       "      <td>Virginia Ave &amp; 25th St NW</td>\n",
       "      <td>31297</td>\n",
       "      <td>38.899500</td>\n",
       "      <td>-77.054155</td>\n",
       "      <td>YES</td>\n",
       "      <td>NO</td>\n",
       "      <td>NaN</td>\n",
       "      <td>NaN</td>\n",
       "      <td>NO</td>\n",
       "      <td>12</td>\n",
       "      <td>7</td>\n",
       "      <td>395302.353355</td>\n",
       "      <td>136851.190868</td>\n",
       "      <td>NaN</td>\n",
       "      <td>DC</td>\n",
       "    </tr>\n",
       "    <tr>\n",
       "      <th>4</th>\n",
       "      <td>292811734</td>\n",
       "      <td>483</td>\n",
       "      <td>15th &amp; M St NW</td>\n",
       "      <td>31298</td>\n",
       "      <td>38.905424</td>\n",
       "      <td>-77.034674</td>\n",
       "      <td>YES</td>\n",
       "      <td>NO</td>\n",
       "      <td>NaN</td>\n",
       "      <td>NaN</td>\n",
       "      <td>NO</td>\n",
       "      <td>10</td>\n",
       "      <td>9</td>\n",
       "      <td>396992.472005</td>\n",
       "      <td>137507.980428</td>\n",
       "      <td>NaN</td>\n",
       "      <td>DC</td>\n",
       "    </tr>\n",
       "  </tbody>\n",
       "</table>\n",
       "</div>"
      ],
      "text/plain": [
       "    OBJECTID   ID                          ADDRESS  TERMINAL_NUMBER  \\\n",
       "0  292811730  479     Columbus Ave & Gramercy Blvd            32069   \n",
       "1  292811731  480        Reston Pkwy & Spectrum Dr            32225   \n",
       "2  292811732  481  Key West Ave & Great Seneca Hwy            32070   \n",
       "3  292811733  482        Virginia Ave & 25th St NW            31297   \n",
       "4  292811734  483                   15th & M St NW            31298   \n",
       "\n",
       "    LATITUDE  LONGITUDE INSTALLED LOCKED  INSTALL_DATE  REMOVAL_DATE  \\\n",
       "0  39.123330 -77.164860       YES     NO           NaN           NaN   \n",
       "1  38.964208 -77.354280       YES     NO           NaN           NaN   \n",
       "2  39.105642 -77.203860       YES     NO           NaN           NaN   \n",
       "3  38.899500 -77.054155       YES     NO           NaN           NaN   \n",
       "4  38.905424 -77.034674       YES     NO           NaN           NaN   \n",
       "\n",
       "  TEMPORARY_INSTALL  NUMBER_OF_BIKES  NUMBER_OF_EMPTY_DOCKS              X  \\\n",
       "0                NO                8                      3  385744.186615   \n",
       "1                NO                5                     10  369296.122237   \n",
       "2                NO                3                      7  382367.389360   \n",
       "3                NO               12                      7  395302.353355   \n",
       "4                NO               10                      9  396992.472005   \n",
       "\n",
       "               Y  SE_ANNO_CAD_DATA OWNER  \n",
       "0  161710.152819               NaN   NaN  \n",
       "1  144092.525801               NaN   NaN  \n",
       "2  159753.369415               NaN   NaN  \n",
       "3  136851.190868               NaN    DC  \n",
       "4  137507.980428               NaN    DC  "
      ]
     },
     "execution_count": 3,
     "metadata": {},
     "output_type": "execute_result"
    }
   ],
   "source": [
    "# read in dataset that contains location information on bike stations\n",
    "bike_station_df = pd.read_csv('datasets/bike-stations/Capital_Bike_Share_Locations.csv')\n",
    "bike_station_df.head()\n"
   ]
  },
  {
   "cell_type": "code",
   "execution_count": 4,
   "metadata": {},
   "outputs": [
    {
     "data": {
      "text/html": [
       "<div>\n",
       "<style scoped>\n",
       "    .dataframe tbody tr th:only-of-type {\n",
       "        vertical-align: middle;\n",
       "    }\n",
       "\n",
       "    .dataframe tbody tr th {\n",
       "        vertical-align: top;\n",
       "    }\n",
       "\n",
       "    .dataframe thead th {\n",
       "        text-align: right;\n",
       "    }\n",
       "</style>\n",
       "<table border=\"1\" class=\"dataframe\">\n",
       "  <thead>\n",
       "    <tr style=\"text-align: right;\">\n",
       "      <th></th>\n",
       "      <th>LATITUDE</th>\n",
       "      <th>LONGITUDE</th>\n",
       "    </tr>\n",
       "  </thead>\n",
       "  <tbody>\n",
       "    <tr>\n",
       "      <th>0</th>\n",
       "      <td>39.123330</td>\n",
       "      <td>-77.164860</td>\n",
       "    </tr>\n",
       "    <tr>\n",
       "      <th>1</th>\n",
       "      <td>38.964208</td>\n",
       "      <td>-77.354280</td>\n",
       "    </tr>\n",
       "    <tr>\n",
       "      <th>2</th>\n",
       "      <td>39.105642</td>\n",
       "      <td>-77.203860</td>\n",
       "    </tr>\n",
       "    <tr>\n",
       "      <th>3</th>\n",
       "      <td>38.899500</td>\n",
       "      <td>-77.054155</td>\n",
       "    </tr>\n",
       "    <tr>\n",
       "      <th>4</th>\n",
       "      <td>38.905424</td>\n",
       "      <td>-77.034674</td>\n",
       "    </tr>\n",
       "  </tbody>\n",
       "</table>\n",
       "</div>"
      ],
      "text/plain": [
       "    LATITUDE  LONGITUDE\n",
       "0  39.123330 -77.164860\n",
       "1  38.964208 -77.354280\n",
       "2  39.105642 -77.203860\n",
       "3  38.899500 -77.054155\n",
       "4  38.905424 -77.034674"
      ]
     },
     "execution_count": 4,
     "metadata": {},
     "output_type": "execute_result"
    }
   ],
   "source": [
    "# drop all irrelevant columns\n",
    "bike_station_df_drop = bike_station_df.drop(['ADDRESS', 'TERMINAL_NUMBER', 'OBJECTID', 'ID', 'INSTALLED', 'LOCKED', 'INSTALL_DATE',\n",
    "                                             'REMOVAL_DATE', 'TEMPORARY_INSTALL', 'NUMBER_OF_BIKES',\n",
    "                                             'NUMBER_OF_EMPTY_DOCKS', 'X', 'Y', 'SE_ANNO_CAD_DATA',\n",
    "                                             'OWNER'], axis=1)\n",
    "\n",
    "bike_station_df_drop.head()\n"
   ]
  },
  {
   "cell_type": "code",
   "execution_count": 5,
   "metadata": {},
   "outputs": [
    {
     "name": "stdout",
     "output_type": "stream",
     "text": [
      "Number of stations in DC metro area: 578\n"
     ]
    }
   ],
   "source": [
    "print('Number of stations in DC metro area:', bike_station_df_drop.shape[0])"
   ]
  },
  {
   "cell_type": "markdown",
   "metadata": {},
   "source": [
    "Predicting the future demand at every single station may lead to inaccurate results because some stations may have little data. I think it makes more sense to focus on entire areas and predict shared bike demand for a cluster of bike sharing stations. The DC metro area includes more jurisdictions than just Washington, D.C., and therefore information on Washington neighborhoods are insufficient to cover the broader Capital Bikeshare system. Therefore, I will use the unsupervised learning algorithm KMeans to cluster bike stations by their location."
   ]
  },
  {
   "cell_type": "markdown",
   "metadata": {},
   "source": [
    "We're not using Washington, D.C., neighborhoods to cluster the bike stations because the stations are also located outside of the city boundaries. The capital bikeshare dataset covers 7 jurisdictions in the metro DC area: Washington, DC.; Arlington, VA; Alexandria, VA; Montgomery, MD; Prince George's County, MD; Fairfax County, VA; and the City of Falls Church, VA.(https://www.capitalbikeshare.com/how-it-works)\n",
    "\n",
    "Also, the weather data includes stations in these areas, so the average daily weather has been included for all locations. (See station list of weather dataset)\n",
    "\n",
    "According to (https://secure.capitalbikeshare.com/map/), the map matches the clustering plot below.\n"
   ]
  },
  {
   "cell_type": "code",
   "execution_count": 7,
   "metadata": {},
   "outputs": [
    {
     "name": "stdout",
     "output_type": "stream",
     "text": [
      "KMeans(algorithm='auto', copy_x=True, init='k-means++', max_iter=300,\n",
      "       n_clusters=1, n_init=10, n_jobs=None, precompute_distances='auto',\n",
      "       random_state=42, tol=0.0001, verbose=0)\n",
      "KMeans(algorithm='auto', copy_x=True, init='k-means++', max_iter=300,\n",
      "       n_clusters=2, n_init=10, n_jobs=None, precompute_distances='auto',\n",
      "       random_state=42, tol=0.0001, verbose=0)\n",
      "KMeans(algorithm='auto', copy_x=True, init='k-means++', max_iter=300,\n",
      "       n_clusters=3, n_init=10, n_jobs=None, precompute_distances='auto',\n",
      "       random_state=42, tol=0.0001, verbose=0)\n",
      "KMeans(algorithm='auto', copy_x=True, init='k-means++', max_iter=300,\n",
      "       n_clusters=4, n_init=10, n_jobs=None, precompute_distances='auto',\n",
      "       random_state=42, tol=0.0001, verbose=0)\n",
      "KMeans(algorithm='auto', copy_x=True, init='k-means++', max_iter=300,\n",
      "       n_clusters=5, n_init=10, n_jobs=None, precompute_distances='auto',\n",
      "       random_state=42, tol=0.0001, verbose=0)\n",
      "KMeans(algorithm='auto', copy_x=True, init='k-means++', max_iter=300,\n",
      "       n_clusters=6, n_init=10, n_jobs=None, precompute_distances='auto',\n",
      "       random_state=42, tol=0.0001, verbose=0)\n",
      "KMeans(algorithm='auto', copy_x=True, init='k-means++', max_iter=300,\n",
      "       n_clusters=7, n_init=10, n_jobs=None, precompute_distances='auto',\n",
      "       random_state=42, tol=0.0001, verbose=0)\n",
      "KMeans(algorithm='auto', copy_x=True, init='k-means++', max_iter=300,\n",
      "       n_clusters=8, n_init=10, n_jobs=None, precompute_distances='auto',\n",
      "       random_state=42, tol=0.0001, verbose=0)\n",
      "KMeans(algorithm='auto', copy_x=True, init='k-means++', max_iter=300,\n",
      "       n_clusters=9, n_init=10, n_jobs=None, precompute_distances='auto',\n",
      "       random_state=42, tol=0.0001, verbose=0)\n",
      "KMeans(algorithm='auto', copy_x=True, init='k-means++', max_iter=300,\n",
      "       n_clusters=10, n_init=10, n_jobs=None, precompute_distances='auto',\n",
      "       random_state=42, tol=0.0001, verbose=0)\n",
      "KMeans(algorithm='auto', copy_x=True, init='k-means++', max_iter=300,\n",
      "       n_clusters=11, n_init=10, n_jobs=None, precompute_distances='auto',\n",
      "       random_state=42, tol=0.0001, verbose=0)\n",
      "KMeans(algorithm='auto', copy_x=True, init='k-means++', max_iter=300,\n",
      "       n_clusters=12, n_init=10, n_jobs=None, precompute_distances='auto',\n",
      "       random_state=42, tol=0.0001, verbose=0)\n",
      "KMeans(algorithm='auto', copy_x=True, init='k-means++', max_iter=300,\n",
      "       n_clusters=13, n_init=10, n_jobs=None, precompute_distances='auto',\n",
      "       random_state=42, tol=0.0001, verbose=0)\n",
      "KMeans(algorithm='auto', copy_x=True, init='k-means++', max_iter=300,\n",
      "       n_clusters=14, n_init=10, n_jobs=None, precompute_distances='auto',\n",
      "       random_state=42, tol=0.0001, verbose=0)\n",
      "KMeans(algorithm='auto', copy_x=True, init='k-means++', max_iter=300,\n",
      "       n_clusters=15, n_init=10, n_jobs=None, precompute_distances='auto',\n",
      "       random_state=42, tol=0.0001, verbose=0)\n",
      "KMeans(algorithm='auto', copy_x=True, init='k-means++', max_iter=300,\n",
      "       n_clusters=16, n_init=10, n_jobs=None, precompute_distances='auto',\n",
      "       random_state=42, tol=0.0001, verbose=0)\n",
      "KMeans(algorithm='auto', copy_x=True, init='k-means++', max_iter=300,\n",
      "       n_clusters=17, n_init=10, n_jobs=None, precompute_distances='auto',\n",
      "       random_state=42, tol=0.0001, verbose=0)\n",
      "KMeans(algorithm='auto', copy_x=True, init='k-means++', max_iter=300,\n",
      "       n_clusters=18, n_init=10, n_jobs=None, precompute_distances='auto',\n",
      "       random_state=42, tol=0.0001, verbose=0)\n",
      "KMeans(algorithm='auto', copy_x=True, init='k-means++', max_iter=300,\n",
      "       n_clusters=19, n_init=10, n_jobs=None, precompute_distances='auto',\n",
      "       random_state=42, tol=0.0001, verbose=0)\n",
      "KMeans(algorithm='auto', copy_x=True, init='k-means++', max_iter=300,\n",
      "       n_clusters=20, n_init=10, n_jobs=None, precompute_distances='auto',\n",
      "       random_state=42, tol=0.0001, verbose=0)\n",
      "KMeans(algorithm='auto', copy_x=True, init='k-means++', max_iter=300,\n",
      "       n_clusters=21, n_init=10, n_jobs=None, precompute_distances='auto',\n",
      "       random_state=42, tol=0.0001, verbose=0)\n",
      "KMeans(algorithm='auto', copy_x=True, init='k-means++', max_iter=300,\n",
      "       n_clusters=22, n_init=10, n_jobs=None, precompute_distances='auto',\n",
      "       random_state=42, tol=0.0001, verbose=0)\n",
      "KMeans(algorithm='auto', copy_x=True, init='k-means++', max_iter=300,\n",
      "       n_clusters=23, n_init=10, n_jobs=None, precompute_distances='auto',\n",
      "       random_state=42, tol=0.0001, verbose=0)\n",
      "KMeans(algorithm='auto', copy_x=True, init='k-means++', max_iter=300,\n",
      "       n_clusters=24, n_init=10, n_jobs=None, precompute_distances='auto',\n",
      "       random_state=42, tol=0.0001, verbose=0)\n",
      "KMeans(algorithm='auto', copy_x=True, init='k-means++', max_iter=300,\n",
      "       n_clusters=25, n_init=10, n_jobs=None, precompute_distances='auto',\n",
      "       random_state=42, tol=0.0001, verbose=0)\n",
      "KMeans(algorithm='auto', copy_x=True, init='k-means++', max_iter=300,\n",
      "       n_clusters=26, n_init=10, n_jobs=None, precompute_distances='auto',\n",
      "       random_state=42, tol=0.0001, verbose=0)\n",
      "KMeans(algorithm='auto', copy_x=True, init='k-means++', max_iter=300,\n",
      "       n_clusters=27, n_init=10, n_jobs=None, precompute_distances='auto',\n",
      "       random_state=42, tol=0.0001, verbose=0)\n",
      "KMeans(algorithm='auto', copy_x=True, init='k-means++', max_iter=300,\n",
      "       n_clusters=28, n_init=10, n_jobs=None, precompute_distances='auto',\n",
      "       random_state=42, tol=0.0001, verbose=0)\n",
      "KMeans(algorithm='auto', copy_x=True, init='k-means++', max_iter=300,\n",
      "       n_clusters=29, n_init=10, n_jobs=None, precompute_distances='auto',\n",
      "       random_state=42, tol=0.0001, verbose=0)\n",
      "KMeans(algorithm='auto', copy_x=True, init='k-means++', max_iter=300,\n",
      "       n_clusters=30, n_init=10, n_jobs=None, precompute_distances='auto',\n",
      "       random_state=42, tol=0.0001, verbose=0)\n",
      "KMeans(algorithm='auto', copy_x=True, init='k-means++', max_iter=300,\n",
      "       n_clusters=31, n_init=10, n_jobs=None, precompute_distances='auto',\n",
      "       random_state=42, tol=0.0001, verbose=0)\n",
      "KMeans(algorithm='auto', copy_x=True, init='k-means++', max_iter=300,\n",
      "       n_clusters=32, n_init=10, n_jobs=None, precompute_distances='auto',\n",
      "       random_state=42, tol=0.0001, verbose=0)\n",
      "KMeans(algorithm='auto', copy_x=True, init='k-means++', max_iter=300,\n",
      "       n_clusters=33, n_init=10, n_jobs=None, precompute_distances='auto',\n",
      "       random_state=42, tol=0.0001, verbose=0)\n",
      "KMeans(algorithm='auto', copy_x=True, init='k-means++', max_iter=300,\n",
      "       n_clusters=34, n_init=10, n_jobs=None, precompute_distances='auto',\n",
      "       random_state=42, tol=0.0001, verbose=0)\n",
      "KMeans(algorithm='auto', copy_x=True, init='k-means++', max_iter=300,\n",
      "       n_clusters=35, n_init=10, n_jobs=None, precompute_distances='auto',\n",
      "       random_state=42, tol=0.0001, verbose=0)\n",
      "KMeans(algorithm='auto', copy_x=True, init='k-means++', max_iter=300,\n",
      "       n_clusters=36, n_init=10, n_jobs=None, precompute_distances='auto',\n",
      "       random_state=42, tol=0.0001, verbose=0)\n",
      "KMeans(algorithm='auto', copy_x=True, init='k-means++', max_iter=300,\n",
      "       n_clusters=37, n_init=10, n_jobs=None, precompute_distances='auto',\n",
      "       random_state=42, tol=0.0001, verbose=0)\n",
      "KMeans(algorithm='auto', copy_x=True, init='k-means++', max_iter=300,\n",
      "       n_clusters=38, n_init=10, n_jobs=None, precompute_distances='auto',\n",
      "       random_state=42, tol=0.0001, verbose=0)\n",
      "KMeans(algorithm='auto', copy_x=True, init='k-means++', max_iter=300,\n",
      "       n_clusters=39, n_init=10, n_jobs=None, precompute_distances='auto',\n",
      "       random_state=42, tol=0.0001, verbose=0)\n"
     ]
    }
   ],
   "source": [
    "# The following code was adapted from https://github.com/julianikulski/identifying-customer-segments/blob/master/Identify_Customer_Segments.ipynb\n",
    "# Calculating centers for up to 40 clusters\n",
    "all_centroids = []\n",
    "clust_count = 40\n",
    "for i in range(1, clust_count):\n",
    "    # run kmeans algorithm on i clusters\n",
    "    kmeans_i = KMeans(n_clusters=i, random_state=42)\n",
    "    # calculate the average within-cluster distances\n",
    "    print(kmeans_i)\n",
    "    model_i = kmeans_i.fit(bike_station_df_drop).score(bike_station_df_drop)\n",
    "    all_centroids.append(model_i)"
   ]
  },
  {
   "cell_type": "code",
   "execution_count": 8,
   "metadata": {},
   "outputs": [
    {
     "data": {
      "image/png": "[encoded data removed]",
      "text/plain": [
       "<Figure size 1224x720 with 1 Axes>"
      ]
     },
     "metadata": {
      "needs_background": "light"
     },
     "output_type": "display_data"
    }
   ],
   "source": [
    "# plotting change of within-cluster distances\n",
    "clust_count = [x for x in range(1,40)]\n",
    "all_centroids_new = [-x for x in all_centroids]\n",
    "\n",
    "plt.figure(figsize=(17,10))\n",
    "plt.plot(clust_count, all_centroids_new, marker='o');\n"
   ]
  },
  {
   "cell_type": "markdown",
   "metadata": {},
   "source": [
    "Looking at the above plot, it is very difficult to identify the 'elbow' of the graph. To support the identification of a good amount of clusters, I will use the silhouette score."
   ]
  },
  {
   "cell_type": "code",
   "execution_count": 10,
   "metadata": {
    "scrolled": true
   },
   "outputs": [
    {
     "name": "stdout",
     "output_type": "stream",
     "text": [
      "For n_clusters = 2, the silhouette score is 0.6005110877253983)\n",
      "For n_clusters = 3, the silhouette score is 0.5786439989005002)\n",
      "For n_clusters = 4, the silhouette score is 0.40334655340608633)\n",
      "For n_clusters = 5, the silhouette score is 0.41117797107922893)\n",
      "For n_clusters = 6, the silhouette score is 0.41835352389379443)\n",
      "For n_clusters = 7, the silhouette score is 0.4070196202053189)\n",
      "For n_clusters = 8, the silhouette score is 0.4353822385774991)\n",
      "For n_clusters = 9, the silhouette score is 0.4495844781190487)\n",
      "For n_clusters = 10, the silhouette score is 0.4544670158528923)\n",
      "For n_clusters = 11, the silhouette score is 0.4586608042175479)\n",
      "For n_clusters = 12, the silhouette score is 0.45067735389947144)\n",
      "For n_clusters = 13, the silhouette score is 0.45886598261021216)\n",
      "For n_clusters = 14, the silhouette score is 0.45837025670164944)\n",
      "For n_clusters = 15, the silhouette score is 0.4514252926974311)\n",
      "For n_clusters = 16, the silhouette score is 0.45217929413971336)\n",
      "For n_clusters = 17, the silhouette score is 0.4436811558355293)\n",
      "For n_clusters = 18, the silhouette score is 0.44883132597525033)\n",
      "For n_clusters = 19, the silhouette score is 0.44623335473798764)\n",
      "For n_clusters = 20, the silhouette score is 0.44810823155572627)\n",
      "For n_clusters = 21, the silhouette score is 0.4516503590696083)\n",
      "For n_clusters = 22, the silhouette score is 0.45535570126125513)\n",
      "For n_clusters = 23, the silhouette score is 0.4613272577974147)\n",
      "For n_clusters = 24, the silhouette score is 0.457725295670006)\n",
      "For n_clusters = 25, the silhouette score is 0.46412126406373255)\n",
      "For n_clusters = 26, the silhouette score is 0.4708099703156447)\n",
      "For n_clusters = 27, the silhouette score is 0.4596593607968994)\n",
      "For n_clusters = 28, the silhouette score is 0.4607768006002562)\n",
      "For n_clusters = 29, the silhouette score is 0.461459554927091)\n",
      "For n_clusters = 30, the silhouette score is 0.4668916498159141)\n",
      "For n_clusters = 31, the silhouette score is 0.462961965853375)\n",
      "For n_clusters = 32, the silhouette score is 0.4725864442230121)\n",
      "For n_clusters = 33, the silhouette score is 0.4658842640138641)\n",
      "For n_clusters = 34, the silhouette score is 0.4551195185923114)\n",
      "For n_clusters = 35, the silhouette score is 0.46255472405144166)\n",
      "For n_clusters = 36, the silhouette score is 0.4414435865700548)\n",
      "For n_clusters = 37, the silhouette score is 0.44473178658105195)\n",
      "For n_clusters = 38, the silhouette score is 0.44804138396279597)\n",
      "For n_clusters = 39, the silhouette score is 0.4420766871204786)\n"
     ]
    }
   ],
   "source": [
    "# code partially taken from https://scikit-learn.org/stable/auto_examples/cluster/plot_kmeans_silhouette_analysis.html#sphx-glr-auto-examples-cluster-plot-kmeans-silhouette-analysis-py\n",
    "# calculating the silhouette score for up to 40 clusters\n",
    "total_scores = []\n",
    "\n",
    "for i in range(2,40):\n",
    "    clusterer = KMeans(n_clusters=i, random_state=42)\n",
    "    preds = clusterer.fit_predict(bike_station_df_drop)\n",
    "    centers = clusterer.cluster_centers_\n",
    "\n",
    "    score = silhouette_score(bike_station_df_drop, preds, metric='euclidean')\n",
    "    total_scores.append(score)\n",
    "    print (\"For n_clusters = {}, the silhouette score is {})\".format(i, score))\n",
    "    "
   ]
  },
  {
   "cell_type": "code",
   "execution_count": 11,
   "metadata": {},
   "outputs": [
    {
     "data": {
      "image/png": "[encoded data removed]",
      "text/plain": [
       "<Figure size 1080x432 with 1 Axes>"
      ]
     },
     "metadata": {
      "needs_background": "light"
     },
     "output_type": "display_data"
    }
   ],
   "source": [
    "# remove first iteration of clust_count\n",
    "clust_count.pop(0)\n",
    "\n",
    "# plotting the silhouette scores\n",
    "plt.figure(figsize=[15,6])\n",
    "sb.lineplot(clust_count, total_scores, marker='o');\n"
   ]
  },
  {
   "cell_type": "markdown",
   "metadata": {},
   "source": [
    "Based on the above plot, I will use 26 clusters. The higher the silhouette score, the better the clusters are separated from each other. 32 clusters are too many and 2 or 3 clusters are too little. I will plot the clusters with their centroids below to do a visual check on whether the clustering makes sense."
   ]
  },
  {
   "cell_type": "code",
   "execution_count": 14,
   "metadata": {},
   "outputs": [
    {
     "data": {
      "image/png": "[encoded data removed]",
      "text/plain": [
       "<Figure size 1080x720 with 1 Axes>"
      ]
     },
     "metadata": {
      "needs_background": "light"
     },
     "output_type": "display_data"
    }
   ],
   "source": [
    "# code is partially taken from https://jakevdp.github.io/PythonDataScienceHandbook/05.11-k-means.html\n",
    "# plotting kmeans to \n",
    "kmeans = KMeans(n_clusters=26)\n",
    "kmeans.fit(bike_station_df_drop)\n",
    "y_kmeans = kmeans.predict(bike_station_df_drop)\n",
    "\n",
    "plt.figure(figsize=(15,10))\n",
    "plt.scatter(bike_station_df_drop['LONGITUDE'], \n",
    "            bike_station_df_drop['LATITUDE'], c=y_kmeans, s=50, cmap='viridis')\n",
    "\n",
    "centers = kmeans.cluster_centers_\n",
    "plt.scatter(centers[:, 1], centers[:, 0], c='black', s=200, alpha=0.5);\n",
    "plt.xlabel('Longitude')\n",
    "plt.ylabel('Latitude')\n",
    "plt.title('Bike station clusters in metro DC area');\n"
   ]
  },
  {
   "cell_type": "markdown",
   "metadata": {},
   "source": [
    "The above plot confirms that 26 is a sensible number of clusters. The 'far out' bike stations are reasonably clustered and the D.C. inner city area has 5 dense clusters."
   ]
  },
  {
   "cell_type": "code",
   "execution_count": null,
   "metadata": {},
   "outputs": [],
   "source": [
    "# assigning the cluster number to each station\n",
    "bike_station_df['cluster'] = y_kmeans\n"
   ]
  },
  {
   "cell_type": "code",
   "execution_count": null,
   "metadata": {},
   "outputs": [],
   "source": [
    "# drop all irrelevant columns\n",
    "bike_station_final = bike_station_df.drop(['OBJECTID', 'ID', 'INSTALLED', 'LOCKED', 'INSTALL_DATE',\n",
    "                                             'REMOVAL_DATE', 'TEMPORARY_INSTALL', 'NUMBER_OF_BIKES',\n",
    "                                             'NUMBER_OF_EMPTY_DOCKS', 'X', 'Y', 'SE_ANNO_CAD_DATA',\n",
    "                                             'OWNER', 'LATITUDE', 'LONGITUDE'], axis=1)\n",
    "\n",
    "bike_station_final.rename(columns={'ADDRESS': 'station_address', 'TERMINAL_NUMBER': 'Start station number'}, inplace=True)\n",
    "bike_station_final.head()\n"
   ]
  },
  {
   "cell_type": "markdown",
   "metadata": {},
   "source": [
    "## Bike sharing demand dataset"
   ]
  },
  {
   "cell_type": "code",
   "execution_count": null,
   "metadata": {},
   "outputs": [],
   "source": [
    "# merge the bike sharing demand csv files into one dataframe for Washington, D.C.\n",
    "path = r'C:\\Users\\julia\\Documents\\Studium\\Master\\2. Semester\\Master-Seminar Applied Econometrics - Data Science Basics\\bike-sharing\\datasets\\bike-sharing'\n",
    "all_files = glob.glob(path + \"/*.csv\")\n",
    "\n",
    "df_list = []\n",
    "\n",
    "for file in all_files:\n",
    "    df_comp = pd.read_csv(file)\n",
    "    df_list.append(df_comp)\n",
    "    \n",
    "df_bike = pd.concat(df_list, axis=0, ignore_index=True)\n"
   ]
  },
  {
   "cell_type": "code",
   "execution_count": null,
   "metadata": {},
   "outputs": [],
   "source": [
    "# get overview of dataframe\n",
    "print(df_bike.shape)\n",
    "df_bike.head()\n"
   ]
  },
  {
   "cell_type": "code",
   "execution_count": null,
   "metadata": {},
   "outputs": [],
   "source": [
    "# drop columns that are irrelevant\n",
    "df_bike_drop = df_bike.drop(['Duration', 'Start station', 'End station number', \n",
    "                             'End station', 'Bike number', 'End date'], axis=1)\n",
    "\n",
    "# create new column that only contains the date\n",
    "df_bike_drop['date'] = df_bike_drop['Start date'].apply(lambda x: x[:10])\n",
    "\n",
    "# drop the Start date column\n",
    "df_bike_drop.drop(['Start date'], axis=1, inplace=True)\n",
    "\n",
    "\n"
   ]
  },
  {
   "cell_type": "code",
   "execution_count": null,
   "metadata": {},
   "outputs": [],
   "source": [
    "# merge df_bike_drop and bike_station_final on the start station column\n",
    "df_demand_station = df_bike_drop.merge(bike_station_final, how='left', on='Start station number')\n",
    "df_demand_station.head()\n"
   ]
  },
  {
   "cell_type": "code",
   "execution_count": null,
   "metadata": {},
   "outputs": [],
   "source": [
    "df_demand_station"
   ]
  },
  {
   "cell_type": "code",
   "execution_count": null,
   "metadata": {},
   "outputs": [],
   "source": [
    "# create two new columns for number of casual and registered customers per day\n",
    "df_demand_station['casual'] = df_demand_station['Member type'].apply(lambda x: 1 if x == 'Casual' else 0)\n",
    "df_demand_station['registered'] = df_demand_station['Member type'].apply(lambda x: 1 if x == 'Member' else 0)\n",
    "\n",
    "# create new dataframe with date, casual, registered and total customers\n",
    "cust_list = ['casual', 'registered']\n",
    "df_bike_list = []\n",
    "\n",
    "for cust in cust_list:\n",
    "    series_bike_users = df_demand_station.groupby(['date', 'cluster'])[cust].sum()\n",
    "    df_bike_users = series_bike_users.to_frame()\n",
    "    df_bike_list.append(df_bike_users)\n",
    "    \n",
    "# concat both dataframes saved in list and add new column containing total number of customers\n",
    "df_bike_cust = pd.concat(df_bike_list, axis=1)\n",
    "df_bike_cust.reset_index(inplace=True)\n",
    "df_bike_cust['total_cust'] = df_bike_cust['casual'] + df_bike_cust['registered']\n",
    "df_bike_cust\n"
   ]
  },
  {
   "cell_type": "markdown",
   "metadata": {},
   "source": [
    "## Holiday dataset"
   ]
  },
  {
   "cell_type": "code",
   "execution_count": null,
   "metadata": {
    "scrolled": true
   },
   "outputs": [],
   "source": [
    "# manual creation of dataframe containing information on holidays in Washington, D.C.\n",
    "# source for this is https://dchr.dc.gov/page/holiday-schedules-2018, https://dchr.dc.gov/page/holiday-schedules-2016-and-2017\n",
    "# https://dchr.dc.gov/page/holiday-schedules-2014-and-2015, https://dchr.dc.gov/page/holiday-schedules-2012-and-2013\n",
    "# https://dchr.dc.gov/page/holiday-schedules-2010-and-2011\n",
    "\n",
    "df_holiday = pd.DataFrame(columns=['date', 'holiday'])\n",
    "\n",
    "dates = ['2018-01-01', '2018-01-15', '2018-02-19', '2018-04-16',\n",
    "         '2018-05-28', '2018-07-04', '2018-09-03', '2018-10-08',\n",
    "         '2018-11-12', '2018-11-22', '2018-12-25', '2017-01-02',\n",
    "         '2017-01-16', '2017-01-20', '2017-02-20', '2017-04-17',\n",
    "         '2017-05-29', '2017-07-04', '2017-09-04', '2017-10-09',\n",
    "         '2017-11-10', '2017-11-23', '2017-12-25', '2016-01-01',\n",
    "         '2016-01-18', '2016-02-15', '2016-04-15', '2016-05-30',\n",
    "         '2016-07-04', '2016-09-05', '2016-10-10', '2016-11-11',\n",
    "         '2016-11-24', '2016-12-26', '2015-01-01', '2015-01-19',\n",
    "         '2015-02-16', '2015-04-16', '2015-05-25', '2015-07-03',\n",
    "         '2015-09-07', '2015-10-12', '2015-11-11', '2015-11-26',\n",
    "         '2015-12-25', '2014-01-01', '2014-01-20', '2014-02-17',\n",
    "         '2014-04-16', '2014-05-26', '2014-07-04', '2014-09-01', \n",
    "         '2014-10-13', '2014-11-11', '2014-11-27', '2014-12-25',\n",
    "         '2013-01-01', '2013-01-21', '2013-01-20', '2013-02-18', \n",
    "         '2013-04-16', '2013-05-27', '2013-07-04', '2013-09-02',\n",
    "         '2013-10-14', '2013-11-11', '2013-11-28', '2013-12-25',\n",
    "         '2012-01-02', '2012-01-16', '2012-02-20', '2012-04-16',\n",
    "         '2012-05-28', '2012-07-04', '2012-09-03', '2012-10-08',\n",
    "         '2012-11-12', '2012-11-22', '2012-12-25', '2011-01-17',\n",
    "         '2011-02-21', '2011-04-15', '2011-05-30', '2011-07-04',\n",
    "         '2011-09-05', '2011-10-10', '2011-11-11', '2011-11-24',\n",
    "         '2011-12-26']\n",
    "\n",
    "df_holiday['date'] = dates\n",
    "df_holiday['holiday'] = 1\n",
    "df_holiday.head()\n"
   ]
  },
  {
   "cell_type": "markdown",
   "metadata": {},
   "source": [
    "## Weather dataset"
   ]
  },
  {
   "cell_type": "code",
   "execution_count": null,
   "metadata": {},
   "outputs": [],
   "source": [
    "# read in the weather data for Washington, D.C.\n",
    "path = r'C:\\Users\\julia\\Documents\\Studium\\Master\\2. Semester\\Master-Seminar Applied Econometrics - Data Science Basics\\bike-sharing\\datasets\\weather-data'\n",
    "all_files = glob.glob(path + \"/*.csv\")\n",
    "\n",
    "df_list_weather = []\n",
    "\n",
    "for file in all_files:\n",
    "    df_comp_weather = pd.read_csv(file, low_memory=False)\n",
    "    df_list_weather.append(df_comp_weather)\n",
    "    \n",
    "df_weather = pd.concat(df_list_weather, axis=0, ignore_index=True, sort=False)\n"
   ]
  },
  {
   "cell_type": "code",
   "execution_count": null,
   "metadata": {},
   "outputs": [],
   "source": [
    "# number of rows and columns in weather dataframe\n",
    "df_weather.shape\n"
   ]
  },
  {
   "cell_type": "code",
   "execution_count": null,
   "metadata": {
    "scrolled": true
   },
   "outputs": [],
   "source": [
    "# get an idea of the datatypes on the weather dataframe\n",
    "df_weather.dtypes\n"
   ]
  },
  {
   "cell_type": "code",
   "execution_count": null,
   "metadata": {},
   "outputs": [],
   "source": [
    "df_weather.describe(include='all')"
   ]
  },
  {
   "cell_type": "code",
   "execution_count": null,
   "metadata": {},
   "outputs": [],
   "source": [
    "# show all available weather situation columns and create a list without the attribute columns\n",
    "weathersit_list = list(df_weather.columns)[12:]\n",
    "weathersit = [x for x in weathersit_list if len(x) < 5 and 'WT' in x]\n",
    "weathersit\n"
   ]
  },
  {
   "cell_type": "code",
   "execution_count": null,
   "metadata": {},
   "outputs": [],
   "source": [
    "# create a new data frame that contains only average temperature, windspeed, precipitation and weathersituation\n",
    "# per day across all stations in Washington, D.C.\n",
    "var_list = ['TAVG', 'TMIN', 'TMAX', 'TOBS', 'PRCP', 'AWND', weathersit]\n",
    "df_avg_list = []\n",
    "\n",
    "for var in var_list:\n",
    "    if type(var) != list:\n",
    "        data_avg_vars = df_weather.groupby('DATE')[var].mean()\n",
    "        df_avg_vars = data_avg_vars.to_frame()\n",
    "        df_avg_list.append(df_avg_vars)\n",
    "    else:\n",
    "        for sit in weathersit:\n",
    "            data_wsit = df_weather.groupby('DATE')[sit].max()\n",
    "            df_wsit = data_wsit.to_frame()\n",
    "            df_avg_list.append(df_wsit)\n",
    "            \n",
    "df_weather_aggr = pd.concat(df_avg_list, axis=1)\n",
    "df_weather_aggr\n"
   ]
  },
  {
   "cell_type": "code",
   "execution_count": null,
   "metadata": {},
   "outputs": [],
   "source": [
    "# reset index and change column names\n",
    "df_weather_aggr.reset_index(inplace=True)\n",
    "\n",
    "df_weather_aggr = df_weather_aggr.rename(columns={'DATE': 'date', 'TAVG': 'temp_avg', 'TMAX': 'temp_max',\n",
    "                                                  'TMIN': 'temp_min', 'TOBS': 'temp_observ', 'PRCP': 'precip', \n",
    "                                                  'AWND': 'wind','WT01': 'wt_fog', 'WT02': 'wt_heavy_fog', \n",
    "                                                  'WT03': 'wt_thunder', 'WT04': 'wt_sleet', 'WT05': 'wt_hail', \n",
    "                                                  'WT06': 'wt_glaze', 'WT08':'wt_haze', 'WT09':'wt_drift_snow', \n",
    "                                                  'WT11': 'wt_high_wind', 'WT13': 'wt_mist', 'WT14': 'wt_drizzle', \n",
    "                                                  'WT15': 'wt_freeze_drizzle', 'WT16': 'wt_rain', 'WT17': 'wt_freeze_rain', \n",
    "                                                  'WT18': 'wt_snow', 'WT19': 'wt_unknown', 'WT21': 'wt_ground_fog', \n",
    "                                                  'WT22': 'wt_ice_fog'})\n",
    "df_weather_aggr.head()\n"
   ]
  },
  {
   "cell_type": "code",
   "execution_count": null,
   "metadata": {},
   "outputs": [],
   "source": [
    "# check the shape of the above dataframe\n",
    "df_weather_aggr.shape\n"
   ]
  },
  {
   "cell_type": "markdown",
   "metadata": {},
   "source": [
    "## Combination of all three separate datasets"
   ]
  },
  {
   "cell_type": "code",
   "execution_count": null,
   "metadata": {},
   "outputs": [],
   "source": [
    "# merge the holiday dataframe with the bike customer dataframe\n",
    "df_bike_holiday = df_bike_cust.merge(df_holiday, how='left', on='date')\n",
    "\n",
    "# check the shape of the new dataframe\n",
    "df_bike_holiday.shape\n"
   ]
  },
  {
   "cell_type": "code",
   "execution_count": null,
   "metadata": {},
   "outputs": [],
   "source": [
    "# merge the df_bike_holiday dataframe with the weather dataframe\n",
    "df_bike_holiday_weather = df_weather_aggr.merge(df_bike_holiday, how='left', on='date')\n",
    "\n",
    "# check the shape of the new dataframe\n",
    "df_bike_holiday_weather.shape\n"
   ]
  },
  {
   "cell_type": "code",
   "execution_count": null,
   "metadata": {},
   "outputs": [],
   "source": [
    "# look at the new dataframe\n",
    "df_bike_holiday_weather.head()\n"
   ]
  },
  {
   "cell_type": "code",
   "execution_count": null,
   "metadata": {},
   "outputs": [],
   "source": [
    "# write the final dataframe to a csv file\n",
    "df_bike_holiday_weather.to_csv('bike_sharing_dataset.csv', sep=',', index=False)\n",
    "\n"
   ]
  },
  {
   "cell_type": "code",
   "execution_count": null,
   "metadata": {},
   "outputs": [],
   "source": []
  }
 ],
 "metadata": {
  "kernelspec": {
   "display_name": "Python 3",
   "language": "python",
   "name": "python3"
  },
  "language_info": {
   "codemirror_mode": {
    "name": "ipython",
    "version": 3
   },
   "file_extension": ".py",
   "mimetype": "text/x-python",
   "name": "python",
   "nbconvert_exporter": "python",
   "pygments_lexer": "ipython3",
   "version": "3.7.3"
  }
 },
 "nbformat": 4,
 "nbformat_minor": 2
}
